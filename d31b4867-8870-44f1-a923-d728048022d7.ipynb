{
 "cells": [
  {
   "cell_type": "markdown",
   "metadata": {},
   "source": [
    "# ¡Hola, Hernan!  \n",
    "\n",
    "Mi nombre es David Bautista, soy code reviewer de Practicum y voy a revisar el proyecto que acabas de desarrollar.\n",
    "\n",
    "Cuando vea un error la primera vez, lo señalaré. Deberás encontrarlo y arreglarlo. La intención es que te prepares para un espacio real de trabajo. En un trabajo, el líder de tu equipo hará lo mismo. Si no puedes solucionar el error, te daré más información en la próxima ocasión. \n",
    "\n",
    "Encontrarás mis comentarios más abajo - **por favor, no los muevas, no los modifiques ni los borres**.\n",
    "\n",
    "¿Cómo lo voy a hacer? Voy a leer detenidamente cada una de las implementaciones que has llevado a cabo para cumplir con lo solicitado. Verás los comentarios de esta forma:\n",
    "\n",
    "<div class=\"alert alert-block alert-success\">\n",
    "<b>Comentario del revisor</b> <a class=\"tocSkip\"></a>\n",
    "    \n",
    "Si todo está perfecto.\n",
    "</div>\n",
    "\n",
    "\n",
    "<div class=\"alert alert-block alert-warning\">\n",
    "<b>Comentario del revisor</b> <a class=\"tocSkip\"></a>\n",
    "    \n",
    "Si tu código está bien pero se puede mejorar o hay algún detalle que le hace falta.\n",
    "</div>\n",
    "\n",
    "\n",
    "<div class=\"alert alert-block alert-danger\">\n",
    "    \n",
    "<b>Comentario del revisor</b> <a class=\"tocSkip\"></a>\n",
    "    \n",
    "    \n",
    "Si de pronto hace falta algo o existe algún problema con tu código o conclusiones.\n",
    "</div>\n",
    "\n",
    "\n",
    "Puedes responderme de esta forma: \n",
    "\n",
    "<div class=\"alert alert-block alert-info\">\n",
    "<b>Respuesta del estudiante</b> <a class=\"tocSkip\"></a>\n",
    "</div>\n",
    "\n",
    "¡Empecemos!"
   ]
  },
  {
   "cell_type": "markdown",
   "metadata": {},
   "source": [
    "<div class=\"alert alert-block alert-success\">\n",
    "<b>Comentario del revisor</b> <a class=\"tocSkip\"></a>\n",
    "\n",
    "# Comentario General #4\n",
    "\n",
    "Hola, Hernán, te felicito por la culminación del proyecto. Muy ben trabajo.  </div>"
   ]
  },
  {
   "cell_type": "markdown",
   "metadata": {},
   "source": [
    "# DESCRIPCION DEL PROYECTO\n",
    "\n",
    "# Como analista para Zuber, una empresa nueva de viajes compartidos que se está lanzando en Chicago, debo encontrar patrones en la información disponible para comprender las preferencias de los pasajeros y el impacto de los factores externos en los viajes.\n",
    "\n",
    "# La idea es trabajar con bases de datos distintas, analizando los datos de los competidores y probar una hipótesis sobre el impacto del clima en la frecuencia de los viajes en un determinado dia."
   ]
  },
  {
   "cell_type": "markdown",
   "metadata": {},
   "source": [
    "# Paso 1. Escribe un código para analizar los datos sobre el clima en Chicago en noviembre de 2017 desde el sitio web:\n",
    "\n",
    "https://practicum-content.s3.us-west-1.amazonaws.com/data-analyst-eng/moved_chicago_weather_2017.html"
   ]
  },
  {
   "cell_type": "markdown",
   "metadata": {},
   "source": [
    "# Paso 2. Análisis exploratorio de datos"
   ]
  },
  {
   "cell_type": "markdown",
   "metadata": {},
   "source": [
    "# 1.Imprime el campo company_name. Encuentra la cantidad de viajes en taxi para cada compañía de taxis para el 15 y 16 de noviembre de 2017, asigna al campo resultante el nombre trips_amount e imprímelo también. Ordena los resultados por el campo trips_amount en orden descendente."
   ]
  },
  {
   "cell_type": "markdown",
   "metadata": {},
   "source": [
    "```sql\n",
    "SELECT \n",
    "    cabs.company_name AS company_name,\n",
    "    COUNT(trips.trip_id) AS trips_amount\n",
    "FROM \n",
    "    cabs\n",
    "    INNER JOIN trips ON trips.cab_id = cabs.cab_id\n",
    "WHERE \n",
    "    CAST(trips.start_ts AS date) BETWEEN '2017-11-15' AND '2017-11-16'\n",
    "GROUP BY \n",
    "    company_name\n",
    "ORDER BY \n",
    "    trips_amount DESC;"
   ]
  },
  {
   "cell_type": "markdown",
   "metadata": {},
   "source": [
    "# 2.Encuentra la cantidad de viajes para cada empresa de taxis cuyo nombre contenga las palabras \"Yellow\" o \"Blue\" del 1 al 7 de noviembre de 2017. Nombra la variable resultante trips_amount. Agrupa los resultados por el campo company_name."
   ]
  },
  {
   "cell_type": "markdown",
   "metadata": {},
   "source": [
    "```sql\n",
    "SELECT\n",
    "    cabs.company_name as company_name,\n",
    "    COUNT(trips.trip_id) AS trips_amount\n",
    "FROM\n",
    "    cabs\n",
    "INNER JOIN\n",
    "    trips\n",
    "ON\n",
    "    trips.cab_id = cabs.cab_id\n",
    "WHERE\n",
    "    CAST(trips.start_ts AS date) BETWEEN '2017-11-01' AND '2017-11-07'\n",
    "    AND cabs.company_name LIKE '%%Yellow%%'\n",
    "GROUP BY company_name\n",
    "UNION ALL\n",
    "SELECT\n",
    "    cabs.company_name as company_name,\n",
    "    COUNT(trips.trip_id) AS trips_amount\n",
    "FROM\n",
    "    cabs\n",
    "INNER JOIN\n",
    "    trips\n",
    "ON\n",
    "    trips.cab_id = cabs.cab_id\n",
    "WHERE\n",
    "    CAST(trips.start_ts AS date) BETWEEN '2017-11-01' AND '2017-11-07'\n",
    "    AND cabs.company_name LIKE '%%Blue%%'\n",
    "GROUP BY company_name;"
   ]
  },
  {
   "cell_type": "markdown",
   "metadata": {},
   "source": [
    "# 3.Del 1 al 7 de noviembre de 2017, las empresas de taxis más populares fueron Flash Cab y Taxi Affiliation Services. Encuentra el número de viajes de estas dos empresas y asigna a la variable resultante el nombre trips_amount. Junta los viajes de todas las demás empresas en el grupo \"Other\". Agrupa los datos por nombres de empresas de taxis. Asigna el nombre company al campo con nombres de empresas de taxis. Ordena el resultado en orden descendente por trips_amount."
   ]
  },
  {
   "cell_type": "markdown",
   "metadata": {},
   "source": [
    "```sql\n",
    "SELECT\n",
    "    CASE \n",
    "        WHEN company_name = 'Flash Cab' THEN 'Flash Cab' \n",
    "        WHEN company_name = 'Taxi Affiliation Services' THEN 'Taxi Affiliation Services' \n",
    "        ELSE 'Other' \n",
    "    END AS company,\n",
    "    COUNT(trips.trip_id) as trips_amount                \n",
    "FROM \n",
    "    cabs\n",
    "INNER JOIN \n",
    "    trips \n",
    "ON \n",
    "    trips.cab_id = cabs.cab_id\n",
    "WHERE \n",
    "    CAST(trips.start_ts AS date) BETWEEN '2017-11-01' AND '2017-11-07'\n",
    "GROUP BY \n",
    "    company\n",
    "ORDER BY \n",
    "    trips_amount DESC;"
   ]
  },
  {
   "cell_type": "markdown",
   "metadata": {},
   "source": [
    "# Paso 3. Prueba la hipótesis de que la duración de los viajes desde el Loop hasta el Aeropuerto Internacional O'Hare cambia los sábados lluviosos."
   ]
  },
  {
   "cell_type": "markdown",
   "metadata": {},
   "source": [
    "# 4.Recupera los identificadores de los barrios de O'Hare y Loop de la tabla neighborhoods."
   ]
  },
  {
   "cell_type": "markdown",
   "metadata": {},
   "source": [
    "```sql\n",
    "SELECT\n",
    "    neighborhood_id,\n",
    "    name\n",
    "FROM \n",
    "    neighborhoods\n",
    "WHERE \n",
    "    name LIKE '%Hare' OR name LIKE 'Loop';"
   ]
  },
  {
   "cell_type": "markdown",
   "metadata": {},
   "source": [
    "# 5.Para cada hora recupera los registros de condiciones meteorológicas de la tabla weather_records. Usando el operador CASE, divide todas las horas en dos grupos: Bad si el campo description contiene las palabras rain o storm, y Good para los demás. Nombra el campo resultante weather_conditions. La tabla final debe incluir dos campos: fecha y hora (ts) y weather_conditions."
   ]
  },
  {
   "cell_type": "markdown",
   "metadata": {},
   "source": [
    "```sql\n",
    "SELECT\n",
    "    ts,\n",
    "    CASE\n",
    "        WHEN description LIKE '%rain%' OR description LIKE '%storm%' THEN 'Bad'\n",
    "        ELSE 'Good'\n",
    "    END AS weather_conditions\n",
    "FROM \n",
    "    weather_records;"
   ]
  },
  {
   "cell_type": "markdown",
   "metadata": {},
   "source": [
    "# 6.Recupera de la tabla de trips todos los viajes que comenzaron en el Loop (pickup_location_id: 50) el sábado y terminaron en O'Hare (dropoff_location_id: 63). Obtén las condiciones climáticas para cada viaje. Utiliza el método que aplicaste en la tarea anterior. Recupera también la duración de cada viaje. Ignora los viajes para los que no hay datos disponibles sobre las condiciones climáticas.\n",
    "\n",
    "# Las columnas de la tabla deben estar en el siguiente orden:\n",
    "\n",
    "# start_ts\n",
    "# weather_conditions\n",
    "# duration_seconds\n",
    "# Ordena por trip_id."
   ]
  },
  {
   "cell_type": "markdown",
   "metadata": {},
   "source": [
    "```sql\n",
    "SELECT\n",
    "    start_ts,\n",
    "    T.weather_conditions,\n",
    "    duration_seconds\n",
    "FROM \n",
    "    trips\n",
    "INNER JOIN (\n",
    "    SELECT\n",
    "        ts,\n",
    "        CASE\n",
    "            WHEN description LIKE '%rain%' OR description LIKE '%storm%' THEN 'Bad'\n",
    "            ELSE 'Good'\n",
    "        END AS weather_conditions\n",
    "    FROM \n",
    "        weather_records          \n",
    ") T on T.ts = trips.start_ts\n",
    "WHERE \n",
    "    pickup_location_id = 50 AND dropoff_location_id = 63 AND EXTRACT (DOW from trips.start_ts) = 6\n",
    "ORDER BY trip_id;"
   ]
  },
  {
   "cell_type": "markdown",
   "metadata": {},
   "source": [
    "# Paso 4. Análisis exploratorio de datos"
   ]
  },
  {
   "cell_type": "markdown",
   "metadata": {},
   "source": [
    "# Importar librerias"
   ]
  },
  {
   "cell_type": "code",
   "execution_count": 1,
   "metadata": {},
   "outputs": [],
   "source": [
    "import pandas as pd\n",
    "from scipy import stats as st\n",
    "import matplotlib.pyplot as plt\n",
    "from scipy.stats import levene"
   ]
  },
  {
   "cell_type": "markdown",
   "metadata": {},
   "source": [
    "<div class=\"alert alert-block alert-success\">\n",
    "<b>Comentario del revisor</b> <a class=\"tocSkip\"></a>\n",
    "\n",
    "Perfecto, Hernan. Buen trabajo importando las librerías necesarias para el desarrollo del proyecto. \n",
    "</div>"
   ]
  },
  {
   "cell_type": "markdown",
   "metadata": {},
   "source": [
    "# Importar y Cargar datos"
   ]
  },
  {
   "cell_type": "code",
   "execution_count": 2,
   "metadata": {},
   "outputs": [],
   "source": [
    "df_companies = pd.read_csv('/datasets/project_sql_result_01.csv')\n",
    "df_neighborhoods = pd.read_csv('/datasets/project_sql_result_04.csv')"
   ]
  },
  {
   "cell_type": "markdown",
   "metadata": {},
   "source": [
    "<div class=\"alert alert-block alert-success\">\n",
    "<b>Comentario del revisor</b> <a class=\"tocSkip\"></a>\n",
    "\n",
    "Excelente, buen trabajo cargando los datasets principales para el desarrollo del proyecto. \n",
    "</div>"
   ]
  },
  {
   "cell_type": "markdown",
   "metadata": {},
   "source": [
    "# Estudiar los datos que contienen"
   ]
  },
  {
   "cell_type": "code",
   "execution_count": 3,
   "metadata": {},
   "outputs": [
    {
     "name": "stdout",
     "output_type": "stream",
     "text": [
      "<class 'pandas.core.frame.DataFrame'>\n",
      "RangeIndex: 64 entries, 0 to 63\n",
      "Data columns (total 2 columns):\n",
      " #   Column        Non-Null Count  Dtype \n",
      "---  ------        --------------  ----- \n",
      " 0   company_name  64 non-null     object\n",
      " 1   trips_amount  64 non-null     int64 \n",
      "dtypes: int64(1), object(1)\n",
      "memory usage: 1.1+ KB\n"
     ]
    },
    {
     "data": {
      "text/html": [
       "<div>\n",
       "<style scoped>\n",
       "    .dataframe tbody tr th:only-of-type {\n",
       "        vertical-align: middle;\n",
       "    }\n",
       "\n",
       "    .dataframe tbody tr th {\n",
       "        vertical-align: top;\n",
       "    }\n",
       "\n",
       "    .dataframe thead th {\n",
       "        text-align: right;\n",
       "    }\n",
       "</style>\n",
       "<table border=\"1\" class=\"dataframe\">\n",
       "  <thead>\n",
       "    <tr style=\"text-align: right;\">\n",
       "      <th></th>\n",
       "      <th>trips_amount</th>\n",
       "    </tr>\n",
       "  </thead>\n",
       "  <tbody>\n",
       "    <tr>\n",
       "      <th>count</th>\n",
       "      <td>64.000000</td>\n",
       "    </tr>\n",
       "    <tr>\n",
       "      <th>mean</th>\n",
       "      <td>2145.484375</td>\n",
       "    </tr>\n",
       "    <tr>\n",
       "      <th>std</th>\n",
       "      <td>3812.310186</td>\n",
       "    </tr>\n",
       "    <tr>\n",
       "      <th>min</th>\n",
       "      <td>2.000000</td>\n",
       "    </tr>\n",
       "    <tr>\n",
       "      <th>25%</th>\n",
       "      <td>20.750000</td>\n",
       "    </tr>\n",
       "    <tr>\n",
       "      <th>50%</th>\n",
       "      <td>178.500000</td>\n",
       "    </tr>\n",
       "    <tr>\n",
       "      <th>75%</th>\n",
       "      <td>2106.500000</td>\n",
       "    </tr>\n",
       "    <tr>\n",
       "      <th>max</th>\n",
       "      <td>19558.000000</td>\n",
       "    </tr>\n",
       "  </tbody>\n",
       "</table>\n",
       "</div>"
      ],
      "text/plain": [
       "       trips_amount\n",
       "count     64.000000\n",
       "mean    2145.484375\n",
       "std     3812.310186\n",
       "min        2.000000\n",
       "25%       20.750000\n",
       "50%      178.500000\n",
       "75%     2106.500000\n",
       "max    19558.000000"
      ]
     },
     "execution_count": 3,
     "metadata": {},
     "output_type": "execute_result"
    }
   ],
   "source": [
    "df_companies.info()\n",
    "df_companies.describe()"
   ]
  },
  {
   "cell_type": "code",
   "execution_count": 4,
   "metadata": {},
   "outputs": [
    {
     "data": {
      "text/html": [
       "<div>\n",
       "<style scoped>\n",
       "    .dataframe tbody tr th:only-of-type {\n",
       "        vertical-align: middle;\n",
       "    }\n",
       "\n",
       "    .dataframe tbody tr th {\n",
       "        vertical-align: top;\n",
       "    }\n",
       "\n",
       "    .dataframe thead th {\n",
       "        text-align: right;\n",
       "    }\n",
       "</style>\n",
       "<table border=\"1\" class=\"dataframe\">\n",
       "  <thead>\n",
       "    <tr style=\"text-align: right;\">\n",
       "      <th></th>\n",
       "      <th>company_name</th>\n",
       "      <th>trips_amount</th>\n",
       "    </tr>\n",
       "  </thead>\n",
       "  <tbody>\n",
       "    <tr>\n",
       "      <th>0</th>\n",
       "      <td>Flash Cab</td>\n",
       "      <td>19558</td>\n",
       "    </tr>\n",
       "    <tr>\n",
       "      <th>1</th>\n",
       "      <td>Taxi Affiliation Services</td>\n",
       "      <td>11422</td>\n",
       "    </tr>\n",
       "    <tr>\n",
       "      <th>2</th>\n",
       "      <td>Medallion Leasing</td>\n",
       "      <td>10367</td>\n",
       "    </tr>\n",
       "    <tr>\n",
       "      <th>3</th>\n",
       "      <td>Yellow Cab</td>\n",
       "      <td>9888</td>\n",
       "    </tr>\n",
       "    <tr>\n",
       "      <th>4</th>\n",
       "      <td>Taxi Affiliation Service Yellow</td>\n",
       "      <td>9299</td>\n",
       "    </tr>\n",
       "    <tr>\n",
       "      <th>5</th>\n",
       "      <td>Chicago Carriage Cab Corp</td>\n",
       "      <td>9181</td>\n",
       "    </tr>\n",
       "    <tr>\n",
       "      <th>6</th>\n",
       "      <td>City Service</td>\n",
       "      <td>8448</td>\n",
       "    </tr>\n",
       "    <tr>\n",
       "      <th>7</th>\n",
       "      <td>Sun Taxi</td>\n",
       "      <td>7701</td>\n",
       "    </tr>\n",
       "    <tr>\n",
       "      <th>8</th>\n",
       "      <td>Star North Management LLC</td>\n",
       "      <td>7455</td>\n",
       "    </tr>\n",
       "    <tr>\n",
       "      <th>9</th>\n",
       "      <td>Blue Ribbon Taxi Association Inc.</td>\n",
       "      <td>5953</td>\n",
       "    </tr>\n",
       "  </tbody>\n",
       "</table>\n",
       "</div>"
      ],
      "text/plain": [
       "                        company_name  trips_amount\n",
       "0                          Flash Cab         19558\n",
       "1          Taxi Affiliation Services         11422\n",
       "2                  Medallion Leasing         10367\n",
       "3                         Yellow Cab          9888\n",
       "4    Taxi Affiliation Service Yellow          9299\n",
       "5          Chicago Carriage Cab Corp          9181\n",
       "6                       City Service          8448\n",
       "7                           Sun Taxi          7701\n",
       "8          Star North Management LLC          7455\n",
       "9  Blue Ribbon Taxi Association Inc.          5953"
      ]
     },
     "execution_count": 4,
     "metadata": {},
     "output_type": "execute_result"
    }
   ],
   "source": [
    "df_companies.head(10)"
   ]
  },
  {
   "cell_type": "code",
   "execution_count": 5,
   "metadata": {},
   "outputs": [
    {
     "name": "stdout",
     "output_type": "stream",
     "text": [
      "<class 'pandas.core.frame.DataFrame'>\n",
      "RangeIndex: 94 entries, 0 to 93\n",
      "Data columns (total 2 columns):\n",
      " #   Column                 Non-Null Count  Dtype  \n",
      "---  ------                 --------------  -----  \n",
      " 0   dropoff_location_name  94 non-null     object \n",
      " 1   average_trips          94 non-null     float64\n",
      "dtypes: float64(1), object(1)\n",
      "memory usage: 1.6+ KB\n"
     ]
    },
    {
     "data": {
      "text/html": [
       "<div>\n",
       "<style scoped>\n",
       "    .dataframe tbody tr th:only-of-type {\n",
       "        vertical-align: middle;\n",
       "    }\n",
       "\n",
       "    .dataframe tbody tr th {\n",
       "        vertical-align: top;\n",
       "    }\n",
       "\n",
       "    .dataframe thead th {\n",
       "        text-align: right;\n",
       "    }\n",
       "</style>\n",
       "<table border=\"1\" class=\"dataframe\">\n",
       "  <thead>\n",
       "    <tr style=\"text-align: right;\">\n",
       "      <th></th>\n",
       "      <th>average_trips</th>\n",
       "    </tr>\n",
       "  </thead>\n",
       "  <tbody>\n",
       "    <tr>\n",
       "      <th>count</th>\n",
       "      <td>94.000000</td>\n",
       "    </tr>\n",
       "    <tr>\n",
       "      <th>mean</th>\n",
       "      <td>599.953728</td>\n",
       "    </tr>\n",
       "    <tr>\n",
       "      <th>std</th>\n",
       "      <td>1714.591098</td>\n",
       "    </tr>\n",
       "    <tr>\n",
       "      <th>min</th>\n",
       "      <td>1.800000</td>\n",
       "    </tr>\n",
       "    <tr>\n",
       "      <th>25%</th>\n",
       "      <td>14.266667</td>\n",
       "    </tr>\n",
       "    <tr>\n",
       "      <th>50%</th>\n",
       "      <td>52.016667</td>\n",
       "    </tr>\n",
       "    <tr>\n",
       "      <th>75%</th>\n",
       "      <td>298.858333</td>\n",
       "    </tr>\n",
       "    <tr>\n",
       "      <th>max</th>\n",
       "      <td>10727.466667</td>\n",
       "    </tr>\n",
       "  </tbody>\n",
       "</table>\n",
       "</div>"
      ],
      "text/plain": [
       "       average_trips\n",
       "count      94.000000\n",
       "mean      599.953728\n",
       "std      1714.591098\n",
       "min         1.800000\n",
       "25%        14.266667\n",
       "50%        52.016667\n",
       "75%       298.858333\n",
       "max     10727.466667"
      ]
     },
     "execution_count": 5,
     "metadata": {},
     "output_type": "execute_result"
    }
   ],
   "source": [
    "df_neighborhoods.info()\n",
    "df_neighborhoods.describe()"
   ]
  },
  {
   "cell_type": "code",
   "execution_count": 6,
   "metadata": {},
   "outputs": [
    {
     "data": {
      "text/html": [
       "<div>\n",
       "<style scoped>\n",
       "    .dataframe tbody tr th:only-of-type {\n",
       "        vertical-align: middle;\n",
       "    }\n",
       "\n",
       "    .dataframe tbody tr th {\n",
       "        vertical-align: top;\n",
       "    }\n",
       "\n",
       "    .dataframe thead th {\n",
       "        text-align: right;\n",
       "    }\n",
       "</style>\n",
       "<table border=\"1\" class=\"dataframe\">\n",
       "  <thead>\n",
       "    <tr style=\"text-align: right;\">\n",
       "      <th></th>\n",
       "      <th>dropoff_location_name</th>\n",
       "      <th>average_trips</th>\n",
       "    </tr>\n",
       "  </thead>\n",
       "  <tbody>\n",
       "    <tr>\n",
       "      <th>0</th>\n",
       "      <td>Loop</td>\n",
       "      <td>10727.466667</td>\n",
       "    </tr>\n",
       "    <tr>\n",
       "      <th>1</th>\n",
       "      <td>River North</td>\n",
       "      <td>9523.666667</td>\n",
       "    </tr>\n",
       "    <tr>\n",
       "      <th>2</th>\n",
       "      <td>Streeterville</td>\n",
       "      <td>6664.666667</td>\n",
       "    </tr>\n",
       "    <tr>\n",
       "      <th>3</th>\n",
       "      <td>West Loop</td>\n",
       "      <td>5163.666667</td>\n",
       "    </tr>\n",
       "    <tr>\n",
       "      <th>4</th>\n",
       "      <td>O'Hare</td>\n",
       "      <td>2546.900000</td>\n",
       "    </tr>\n",
       "    <tr>\n",
       "      <th>5</th>\n",
       "      <td>Lake View</td>\n",
       "      <td>2420.966667</td>\n",
       "    </tr>\n",
       "    <tr>\n",
       "      <th>6</th>\n",
       "      <td>Grant Park</td>\n",
       "      <td>2068.533333</td>\n",
       "    </tr>\n",
       "    <tr>\n",
       "      <th>7</th>\n",
       "      <td>Museum Campus</td>\n",
       "      <td>1510.000000</td>\n",
       "    </tr>\n",
       "    <tr>\n",
       "      <th>8</th>\n",
       "      <td>Gold Coast</td>\n",
       "      <td>1364.233333</td>\n",
       "    </tr>\n",
       "    <tr>\n",
       "      <th>9</th>\n",
       "      <td>Sheffield &amp; DePaul</td>\n",
       "      <td>1259.766667</td>\n",
       "    </tr>\n",
       "  </tbody>\n",
       "</table>\n",
       "</div>"
      ],
      "text/plain": [
       "  dropoff_location_name  average_trips\n",
       "0                  Loop   10727.466667\n",
       "1           River North    9523.666667\n",
       "2         Streeterville    6664.666667\n",
       "3             West Loop    5163.666667\n",
       "4                O'Hare    2546.900000\n",
       "5             Lake View    2420.966667\n",
       "6            Grant Park    2068.533333\n",
       "7         Museum Campus    1510.000000\n",
       "8            Gold Coast    1364.233333\n",
       "9    Sheffield & DePaul    1259.766667"
      ]
     },
     "execution_count": 6,
     "metadata": {},
     "output_type": "execute_result"
    }
   ],
   "source": [
    "df_neighborhoods.head(10)"
   ]
  },
  {
   "cell_type": "markdown",
   "metadata": {},
   "source": [
    "<div class=\"alert alert-block alert-success\">\n",
    "<b>Comentario del revisor</b> <a class=\"tocSkip\"></a>\n",
    "\n",
    "Excelente, buen trabajo usando los métodos ``info()``, ``descrbie()`` y ``head()`` para poder explorar de manera inicial el contenido de los datasets. \n",
    "</div>"
   ]
  },
  {
   "cell_type": "markdown",
   "metadata": {},
   "source": [
    "# Identificar los 10 principales barrios en términos de finalización del recorrido"
   ]
  },
  {
   "cell_type": "code",
   "execution_count": 7,
   "metadata": {},
   "outputs": [
    {
     "name": "stdout",
     "output_type": "stream",
     "text": [
      "  dropoff_location_name  average_trips\n",
      "0                  Loop   10727.466667\n",
      "1           River North    9523.666667\n",
      "2         Streeterville    6664.666667\n",
      "3             West Loop    5163.666667\n",
      "4                O'Hare    2546.900000\n",
      "5             Lake View    2420.966667\n",
      "6            Grant Park    2068.533333\n",
      "7         Museum Campus    1510.000000\n",
      "8            Gold Coast    1364.233333\n",
      "9    Sheffield & DePaul    1259.766667\n"
     ]
    }
   ],
   "source": [
    "top_10_average_trip = df_neighborhoods.sort_values(by='average_trips', ascending=False) \n",
    "\n",
    "top_10_average_trip_1 = top_10_average_trip.head(10)\n",
    "\n",
    "print(top_10_average_trip_1)"
   ]
  },
  {
   "cell_type": "markdown",
   "metadata": {},
   "source": [
    "<div class=\"alert alert-block alert-success\">\n",
    "<b>Comentario del revisor</b> <a class=\"tocSkip\"></a>\n",
    "\n",
    "Perfecto, buen trabajo estructurando la tabla. \n",
    "</div>"
   ]
  },
  {
   "cell_type": "markdown",
   "metadata": {},
   "source": [
    "# Hacer gráficos: Los 10 barrios principales por número de finalizaciones"
   ]
  },
  {
   "cell_type": "code",
   "execution_count": 8,
   "metadata": {},
   "outputs": [
    {
     "data": {
      "image/png": "[encoded data removed]",
      "text/plain": [
       "<Figure size 1200x600 with 1 Axes>"
      ]
     },
     "metadata": {},
     "output_type": "display_data"
    }
   ],
   "source": [
    "top_10_average_trip_1.plot(kind='bar',\n",
    "                           figsize=(12, 6),\n",
    "                           title='Los 10 Principales Barrios por Promedio de Finalizaciones (Noviembre de 2017)',\n",
    "                           xlabel='Barrio de Finalización',\n",
    "                           ylabel='Promedio de viajes',\n",
    "                           color='lightcoral',\n",
    "                           rot=90,\n",
    "                           x='dropoff_location_name',\n",
    "                           y='average_trips')\n",
    "\n",
    "plt.show()"
   ]
  },
  {
   "cell_type": "markdown",
   "metadata": {},
   "source": [
    "<div class=\"alert alert-block alert-success\">\n",
    "<b>Comentario del revisor</b> <a class=\"tocSkip\"></a>\n",
    "\n",
    "Excelente, buen trabajo desplegando el barplot para estudiar el top de los principales barrios con más promedio de finalizaciones de viaje.  \n",
    "</div>"
   ]
  },
  {
   "cell_type": "markdown",
   "metadata": {},
   "source": [
    "# Empresas de taxis y número de viajes"
   ]
  },
  {
   "cell_type": "code",
   "execution_count": 9,
   "metadata": {},
   "outputs": [],
   "source": [
    "top_10_companies = df_companies.sort_values(by='trips_amount', ascending=False).head(10)"
   ]
  },
  {
   "cell_type": "code",
   "execution_count": 10,
   "metadata": {},
   "outputs": [
    {
     "data": {
      "image/png": "[encoded data removed]",
      "text/plain": [
       "<Figure size 1200x600 with 1 Axes>"
      ]
     },
     "metadata": {},
     "output_type": "display_data"
    }
   ],
   "source": [
    "top_10_companies.plot(kind='bar',\n",
    "                      figsize=(12, 6),\n",
    "                      title='Top 10 Empresas por Número de Viajes (15-16 de Noviembre de 2017)',\n",
    "                      xlabel='Nombre de la Compañía de Taxi',\n",
    "                      ylabel='Número de Viajes',\n",
    "                      color='skyblue',\n",
    "                      rot=90,\n",
    "                      x='company_name',\n",
    "                      y='trips_amount')\n",
    "\n",
    "plt.tight_layout()\n",
    "plt.show()"
   ]
  },
  {
   "cell_type": "markdown",
   "metadata": {},
   "source": [
    "# Sacar conclusiones basadas en cada gráfico y explicar los resultados"
   ]
  },
  {
   "cell_type": "markdown",
   "metadata": {},
   "source": [
    "<div class=\"alert alert-block alert-info\">\n",
    "<b>Comentario del estudiante</b> <a class=“tocSkip”></a>\n",
    "El análisis de \"top_10_average_trip_1\" revela que 'Loop' se destaca como el más popular y al examinar \"top_10_companies\" se observa que Flash Cab lidera significativamente el mercado; Ahora bien, si estos dos análisis se centran en diferentes aspectos del mercado de viajes compartidos, se puede decir que Flash Cab como empresa lider, probablemente realiza un gran volumen de viajes hacia los destinos más populares como el 'Loop', dada su mayor actividad general, sea la que sea. Sin embargo, sin datos directos para poder cruzar esta premisa de la compañía y el destino a nivel de viaje individual, seguira siendo una inferencia; Por otro lado la  ya marcada diferencia en el volumen de viajes entre Flash Cab y sus competidores en el top 10 sugiere una distribución desigual de la cuota de mercado entre los principales actores, paralelamente, la concentración de finalizaciones en ciertos barrios clave como 'Loop' indica áreas de alta demanda que todas las compañías deberian atender, pero una vez mas para comprender este fenomeno, sería interesante analizar cómo la cuota de mercado de las diferentes compañías varía entre los distintos barrios y si existen tal vez especificaciones geográficas o de destino por parte de algunas empresas para su funcionamiento. \n",
    "</div>"
   ]
  },
  {
   "cell_type": "markdown",
   "metadata": {},
   "source": [
    "<div class=\"alert alert-block alert-danger\">\n",
    "<b>Comentario del revisor</b> <a class=\"tocSkip\"></a>\n",
    "\n",
    "~~Buen trabajo desplegando el gráfico y realizando tus observaciones; sin embargo, sería interesante poder limitar las observaciones únicamente al top 10 para obtener un mejor esquema.~~ \n",
    "</div>\n",
    "\n",
    "<div class=\"alert alert-block alert-success\">\n",
    "<b>Comentario del revisor #3</b> <a class=\"tocSkip\"></a>\n",
    "\n",
    "Perfecto, buen trabajo con la modificación. \n",
    "</div>"
   ]
  },
  {
   "cell_type": "markdown",
   "metadata": {},
   "source": [
    "# Paso 5. Prueba de hipótesis (Python)"
   ]
  },
  {
   "cell_type": "markdown",
   "metadata": {},
   "source": [
    "# Importar y cargar datos"
   ]
  },
  {
   "cell_type": "code",
   "execution_count": 11,
   "metadata": {},
   "outputs": [],
   "source": [
    "df_trips_Loop_AI_OHare = pd.read_csv('/datasets/project_sql_result_07.csv')"
   ]
  },
  {
   "cell_type": "markdown",
   "metadata": {},
   "source": [
    "<div class=\"alert alert-block alert-success\">\n",
    "<b>Comentario del revisor</b> <a class=\"tocSkip\"></a>\n",
    "\n",
    "Perfecto, buen trabajo cargando el dataset con información del clima. \n",
    "</div>"
   ]
  },
  {
   "cell_type": "markdown",
   "metadata": {},
   "source": [
    "# Estudiar los datos que contienen"
   ]
  },
  {
   "cell_type": "code",
   "execution_count": 12,
   "metadata": {},
   "outputs": [
    {
     "name": "stdout",
     "output_type": "stream",
     "text": [
      "<class 'pandas.core.frame.DataFrame'>\n",
      "RangeIndex: 1068 entries, 0 to 1067\n",
      "Data columns (total 3 columns):\n",
      " #   Column              Non-Null Count  Dtype  \n",
      "---  ------              --------------  -----  \n",
      " 0   start_ts            1068 non-null   object \n",
      " 1   weather_conditions  1068 non-null   object \n",
      " 2   duration_seconds    1068 non-null   float64\n",
      "dtypes: float64(1), object(2)\n",
      "memory usage: 25.2+ KB\n"
     ]
    },
    {
     "data": {
      "text/html": [
       "<div>\n",
       "<style scoped>\n",
       "    .dataframe tbody tr th:only-of-type {\n",
       "        vertical-align: middle;\n",
       "    }\n",
       "\n",
       "    .dataframe tbody tr th {\n",
       "        vertical-align: top;\n",
       "    }\n",
       "\n",
       "    .dataframe thead th {\n",
       "        text-align: right;\n",
       "    }\n",
       "</style>\n",
       "<table border=\"1\" class=\"dataframe\">\n",
       "  <thead>\n",
       "    <tr style=\"text-align: right;\">\n",
       "      <th></th>\n",
       "      <th>duration_seconds</th>\n",
       "    </tr>\n",
       "  </thead>\n",
       "  <tbody>\n",
       "    <tr>\n",
       "      <th>count</th>\n",
       "      <td>1068.000000</td>\n",
       "    </tr>\n",
       "    <tr>\n",
       "      <th>mean</th>\n",
       "      <td>2071.731273</td>\n",
       "    </tr>\n",
       "    <tr>\n",
       "      <th>std</th>\n",
       "      <td>769.461125</td>\n",
       "    </tr>\n",
       "    <tr>\n",
       "      <th>min</th>\n",
       "      <td>0.000000</td>\n",
       "    </tr>\n",
       "    <tr>\n",
       "      <th>25%</th>\n",
       "      <td>1438.250000</td>\n",
       "    </tr>\n",
       "    <tr>\n",
       "      <th>50%</th>\n",
       "      <td>1980.000000</td>\n",
       "    </tr>\n",
       "    <tr>\n",
       "      <th>75%</th>\n",
       "      <td>2580.000000</td>\n",
       "    </tr>\n",
       "    <tr>\n",
       "      <th>max</th>\n",
       "      <td>7440.000000</td>\n",
       "    </tr>\n",
       "  </tbody>\n",
       "</table>\n",
       "</div>"
      ],
      "text/plain": [
       "       duration_seconds\n",
       "count       1068.000000\n",
       "mean        2071.731273\n",
       "std          769.461125\n",
       "min            0.000000\n",
       "25%         1438.250000\n",
       "50%         1980.000000\n",
       "75%         2580.000000\n",
       "max         7440.000000"
      ]
     },
     "execution_count": 12,
     "metadata": {},
     "output_type": "execute_result"
    }
   ],
   "source": [
    "df_trips_Loop_AI_OHare.info()\n",
    "df_trips_Loop_AI_OHare.describe()"
   ]
  },
  {
   "cell_type": "code",
   "execution_count": 13,
   "metadata": {},
   "outputs": [
    {
     "data": {
      "text/html": [
       "<div>\n",
       "<style scoped>\n",
       "    .dataframe tbody tr th:only-of-type {\n",
       "        vertical-align: middle;\n",
       "    }\n",
       "\n",
       "    .dataframe tbody tr th {\n",
       "        vertical-align: top;\n",
       "    }\n",
       "\n",
       "    .dataframe thead th {\n",
       "        text-align: right;\n",
       "    }\n",
       "</style>\n",
       "<table border=\"1\" class=\"dataframe\">\n",
       "  <thead>\n",
       "    <tr style=\"text-align: right;\">\n",
       "      <th></th>\n",
       "      <th>start_ts</th>\n",
       "      <th>weather_conditions</th>\n",
       "      <th>duration_seconds</th>\n",
       "    </tr>\n",
       "  </thead>\n",
       "  <tbody>\n",
       "    <tr>\n",
       "      <th>0</th>\n",
       "      <td>2017-11-25 16:00:00</td>\n",
       "      <td>Good</td>\n",
       "      <td>2410.0</td>\n",
       "    </tr>\n",
       "    <tr>\n",
       "      <th>1</th>\n",
       "      <td>2017-11-25 14:00:00</td>\n",
       "      <td>Good</td>\n",
       "      <td>1920.0</td>\n",
       "    </tr>\n",
       "    <tr>\n",
       "      <th>2</th>\n",
       "      <td>2017-11-25 12:00:00</td>\n",
       "      <td>Good</td>\n",
       "      <td>1543.0</td>\n",
       "    </tr>\n",
       "    <tr>\n",
       "      <th>3</th>\n",
       "      <td>2017-11-04 10:00:00</td>\n",
       "      <td>Good</td>\n",
       "      <td>2512.0</td>\n",
       "    </tr>\n",
       "    <tr>\n",
       "      <th>4</th>\n",
       "      <td>2017-11-11 07:00:00</td>\n",
       "      <td>Good</td>\n",
       "      <td>1440.0</td>\n",
       "    </tr>\n",
       "    <tr>\n",
       "      <th>5</th>\n",
       "      <td>2017-11-11 04:00:00</td>\n",
       "      <td>Good</td>\n",
       "      <td>1320.0</td>\n",
       "    </tr>\n",
       "    <tr>\n",
       "      <th>6</th>\n",
       "      <td>2017-11-04 16:00:00</td>\n",
       "      <td>Bad</td>\n",
       "      <td>2969.0</td>\n",
       "    </tr>\n",
       "    <tr>\n",
       "      <th>7</th>\n",
       "      <td>2017-11-18 11:00:00</td>\n",
       "      <td>Good</td>\n",
       "      <td>2280.0</td>\n",
       "    </tr>\n",
       "    <tr>\n",
       "      <th>8</th>\n",
       "      <td>2017-11-11 14:00:00</td>\n",
       "      <td>Good</td>\n",
       "      <td>2460.0</td>\n",
       "    </tr>\n",
       "    <tr>\n",
       "      <th>9</th>\n",
       "      <td>2017-11-11 12:00:00</td>\n",
       "      <td>Good</td>\n",
       "      <td>2040.0</td>\n",
       "    </tr>\n",
       "  </tbody>\n",
       "</table>\n",
       "</div>"
      ],
      "text/plain": [
       "              start_ts weather_conditions  duration_seconds\n",
       "0  2017-11-25 16:00:00               Good            2410.0\n",
       "1  2017-11-25 14:00:00               Good            1920.0\n",
       "2  2017-11-25 12:00:00               Good            1543.0\n",
       "3  2017-11-04 10:00:00               Good            2512.0\n",
       "4  2017-11-11 07:00:00               Good            1440.0\n",
       "5  2017-11-11 04:00:00               Good            1320.0\n",
       "6  2017-11-04 16:00:00                Bad            2969.0\n",
       "7  2017-11-18 11:00:00               Good            2280.0\n",
       "8  2017-11-11 14:00:00               Good            2460.0\n",
       "9  2017-11-11 12:00:00               Good            2040.0"
      ]
     },
     "execution_count": 13,
     "metadata": {},
     "output_type": "execute_result"
    }
   ],
   "source": [
    "df_trips_Loop_AI_OHare.head(10)"
   ]
  },
  {
   "cell_type": "markdown",
   "metadata": {},
   "source": [
    "<div class=\"alert alert-block alert-success\">\n",
    "<b>Comentario del revisor</b> <a class=\"tocSkip\"></a>\n",
    "\n",
    "Perfecto, buen trabajo explorando de manera inicial el contenido del dataset.\n",
    "</div>"
   ]
  },
  {
   "cell_type": "markdown",
   "metadata": {},
   "source": [
    "# Verificar que los tipos de datos sean correctos"
   ]
  },
  {
   "cell_type": "code",
   "execution_count": 14,
   "metadata": {},
   "outputs": [
    {
     "name": "stdout",
     "output_type": "stream",
     "text": [
      "0   2017-11-25 16:00:00\n",
      "1   2017-11-25 14:00:00\n",
      "2   2017-11-25 12:00:00\n",
      "3   2017-11-04 10:00:00\n",
      "4   2017-11-11 07:00:00\n",
      "Name: start_ts, dtype: datetime64[ns]\n",
      "datetime64[ns]\n"
     ]
    }
   ],
   "source": [
    "df_trips_Loop_AI_OHare['start_ts'] = pd.to_datetime(df_trips_Loop_AI_OHare['start_ts'])\n",
    "print(df_trips_Loop_AI_OHare['start_ts'].head())\n",
    "print(df_trips_Loop_AI_OHare['start_ts'].dtype)"
   ]
  },
  {
   "cell_type": "code",
   "execution_count": 15,
   "metadata": {},
   "outputs": [
    {
     "name": "stdout",
     "output_type": "stream",
     "text": [
      "0    Saturday\n",
      "1    Saturday\n",
      "2    Saturday\n",
      "3    Saturday\n",
      "4    Saturday\n",
      "Name: day_of_week, dtype: object\n"
     ]
    }
   ],
   "source": [
    "df_trips_Loop_AI_OHare['day_of_week'] = df_trips_Loop_AI_OHare['start_ts'].dt.day_name()\n",
    "print(df_trips_Loop_AI_OHare['day_of_week'].head())"
   ]
  },
  {
   "cell_type": "code",
   "execution_count": 16,
   "metadata": {},
   "outputs": [
    {
     "name": "stdout",
     "output_type": "stream",
     "text": [
      "count     888.000000\n",
      "mean     1999.675676\n",
      "std       759.198268\n",
      "min         0.000000\n",
      "25%      1389.750000\n",
      "50%      1800.000000\n",
      "75%      2460.000000\n",
      "max      7440.000000\n",
      "Name: duration_seconds, dtype: float64\n",
      "count     180.000000\n",
      "mean     2427.205556\n",
      "std       721.314138\n",
      "min       480.000000\n",
      "25%      1962.000000\n",
      "50%      2540.000000\n",
      "75%      2928.000000\n",
      "max      4980.000000\n",
      "Name: duration_seconds, dtype: float64\n"
     ]
    }
   ],
   "source": [
    "saturday_trips = df_trips_Loop_AI_OHare[df_trips_Loop_AI_OHare['day_of_week'] == 'Saturday']\n",
    "\n",
    "saturday_good_weather = saturday_trips[saturday_trips['weather_conditions'] == 'Good']['duration_seconds']\n",
    "saturday_bad_weather = saturday_trips[saturday_trips['weather_conditions'] == 'Bad']['duration_seconds']\n",
    "\n",
    "print(saturday_good_weather.describe())\n",
    "print(saturday_bad_weather.describe())"
   ]
  },
  {
   "cell_type": "markdown",
   "metadata": {},
   "source": [
    "# Prueba la hipótesis: \"La duración promedio de los viajes desde el Loop hasta el Aeropuerto Internacional O'Hare cambia los sábados lluviosos\"."
   ]
  },
  {
   "cell_type": "code",
   "execution_count": 17,
   "metadata": {},
   "outputs": [
    {
     "name": "stdout",
     "output_type": "stream",
     "text": [
      "Estadístico de Levene: 0.38853489683656073\n",
      "Valor p de Levene: 0.5332038671974493\n",
      "\n",
      "No se rechaza la hipótesis nula de la prueba de Levene.\n",
      "No se evidencia que las varianzas de ambos grupos sean significativamente diferentes.\n"
     ]
    }
   ],
   "source": [
    "levene_stat, levene_p_value = levene(saturday_good_weather, saturday_bad_weather)\n",
    "\n",
    "print('Estadístico de Levene:', levene_stat)\n",
    "print('Valor p de Levene:', levene_p_value)\n",
    "\n",
    "alpha_levene = 0.05\n",
    "\n",
    "if levene_p_value < alpha_levene:\n",
    "    print(\"\\nSe rechaza la hipótesis nula de la prueba de Levene.\")\n",
    "    print(\"Se evidencia que las varianzas de ambos grupos son significativamente diferentes.\")\n",
    "else:\n",
    "    print(\"\\nNo se rechaza la hipótesis nula de la prueba de Levene.\")\n",
    "    print(\"No se evidencia que las varianzas de ambos grupos sean significativamente diferentes.\")"
   ]
  },
  {
   "cell_type": "code",
   "execution_count": 18,
   "metadata": {},
   "outputs": [
    {
     "name": "stdout",
     "output_type": "stream",
     "text": [
      "valor p: 6.517970327099473e-12\n",
      "Rechazamos la hipótesis nula. Hay una diferencia estadísticamente significativa en la duración promedio de los viajes los sábados lluviosos.\n"
     ]
    }
   ],
   "source": [
    "results = st.ttest_ind(saturday_good_weather, saturday_bad_weather)\n",
    "\n",
    "print('valor p:', results.pvalue)\n",
    "\n",
    "alpha = 0.05\n",
    "if results.pvalue < alpha:\n",
    "    print(\"Rechazamos la hipótesis nula. Hay una diferencia estadísticamente significativa en la duración promedio de los viajes los sábados lluviosos.\")\n",
    "else:\n",
    "    print(\"No rechazamos la hipótesis nula. No hay una diferencia estadísticamente significativa en la duración promedio de los viajes los sábados lluviosos.\")"
   ]
  },
  {
   "cell_type": "markdown",
   "metadata": {},
   "source": [
    "<div class=\"alert alert-block alert-success\">\n",
    "<b>Comentario del revisor #3</b> <a class=\"tocSkip\"></a>\n",
    "\n",
    "Perfecto, buen trabajo desarrollando la prueba.\n",
    "</div>"
   ]
  },
  {
   "cell_type": "markdown",
   "metadata": {},
   "source": [
    "# Explica: cómo planteaste las hipótesis nula y alternativa / qué criterio usaste para probar las hipótesis y por qué?"
   ]
  },
  {
   "cell_type": "markdown",
   "metadata": {},
   "source": [
    "<div class=\"alert alert-block alert-info\">\n",
    "<b>Comentario del estudiante</b> <a class=“tocSkip”></a>\n",
    "El planteamiento de la hipótesis nula \"Hay una diferencia estadísticamente significativa en la duración promedio de los viajes los sábados lluviosos\" y la hipótesis alternativa \"No hay una diferencia estadísticamente significativa en la duración promedio de los viajes los sábados lluviosos\" nace de Filtrar el DataFrame para obtener solo los viajes de los sábados que son los que nos interesan, asi como tambien crear dos subconjuntos de datos, por un lado uno para los sábados con buen clima y otro para los sábados con mal clima (saturday_good_weather, saturday_bad_weather), realizo una prueba Levene, la cual sugiere que podemos proceder con la interpretación de los resultados de nuestra prueba t estándar sin preocuparnos demasiado en que los resultados de las varianzas sean iguales, despues aplico la prueba t student a la columna que nos muestra la duracion en segundos de estos dos subconjuntos (duration_seconds) de estos dos subconjuntos y seguido a esto comparo el valor p resultante con la significación estandar (α=0.05 ya probada con levene()) para decidir si rechazamos o no la hipótesis nula; Esto significa entonces como CONCLUSION FINAL, que segun el resultado de salida (6.52e-12, extremadamente pequeño comparado con alfa!), que tenemos evidencia estadística para decir que la duración promedio de los viajes desde el Loop hasta el Aeropuerto Internacional O'Hare los sábados ES SIGNIFICATIVAMENTE DIFERENTE cuando las condiciones climáticas son malas (lluviosas) en comparación a cuando son buenas. Y si bien es cierto, una interpretación interesante seria enfocarse en ver como la precaución del conductor y la reducción de la velocidad en general como una posible causa es un buen punto de partida lógico para una nueva hipótesis plausible que explicaría el aumento en la duración promedio, obviamente la magnitud de la diferencia promedio en segundos y reconocer que la correlación no implica causalidad, podrian existir otros factores que afectarian de manera significativa en segundos los resultados y que podria ser una posibilidad en detalle para un proximo analisis, segun las metricas estadisticas tambien mostradas en ambos grupos de ineteres. \n",
    "</div>"
   ]
  }
 ],
 "metadata": {
  "ExecuteTimeLog": [
   {
    "duration": 316,
    "start_time": "2025-05-06T21:57:14.945Z"
   },
   {
    "duration": 499,
    "start_time": "2025-05-06T22:02:44.099Z"
   },
   {
    "duration": 2160,
    "start_time": "2025-05-06T22:03:13.727Z"
   },
   {
    "duration": 96,
    "start_time": "2025-05-06T22:03:17.506Z"
   },
   {
    "duration": 113,
    "start_time": "2025-05-06T22:05:33.791Z"
   },
   {
    "duration": 60,
    "start_time": "2025-05-06T22:05:44.593Z"
   },
   {
    "duration": 59,
    "start_time": "2025-05-06T22:07:03.901Z"
   },
   {
    "duration": 789,
    "start_time": "2025-05-06T22:11:03.572Z"
   },
   {
    "duration": 582,
    "start_time": "2025-05-06T22:11:04.363Z"
   },
   {
    "duration": 16,
    "start_time": "2025-05-06T22:13:50.075Z"
   },
   {
    "duration": 18,
    "start_time": "2025-05-06T22:14:40.175Z"
   },
   {
    "duration": 6,
    "start_time": "2025-05-06T22:15:23.629Z"
   },
   {
    "duration": 13,
    "start_time": "2025-05-06T22:22:16.683Z"
   },
   {
    "duration": 7,
    "start_time": "2025-05-06T22:22:30.466Z"
   },
   {
    "duration": 768,
    "start_time": "2025-05-06T22:26:21.606Z"
   },
   {
    "duration": 10,
    "start_time": "2025-05-06T22:26:22.376Z"
   },
   {
    "duration": 24,
    "start_time": "2025-05-06T22:26:22.388Z"
   },
   {
    "duration": 5,
    "start_time": "2025-05-06T22:26:22.414Z"
   },
   {
    "duration": 14,
    "start_time": "2025-05-06T22:26:22.421Z"
   },
   {
    "duration": 6,
    "start_time": "2025-05-06T22:26:22.436Z"
   },
   {
    "duration": 6,
    "start_time": "2025-05-06T22:35:19.835Z"
   },
   {
    "duration": 5,
    "start_time": "2025-05-06T22:36:34.671Z"
   },
   {
    "duration": 281,
    "start_time": "2025-05-06T22:51:06.305Z"
   },
   {
    "duration": 932,
    "start_time": "2025-05-06T22:51:24.013Z"
   },
   {
    "duration": 1145,
    "start_time": "2025-05-06T22:56:50.637Z"
   },
   {
    "duration": 5,
    "start_time": "2025-05-06T23:04:36.874Z"
   },
   {
    "duration": 149,
    "start_time": "2025-05-06T23:05:00.442Z"
   },
   {
    "duration": 6,
    "start_time": "2025-05-06T23:06:02.964Z"
   },
   {
    "duration": 148,
    "start_time": "2025-05-06T23:06:06.841Z"
   },
   {
    "duration": 930,
    "start_time": "2025-05-06T23:13:59.168Z"
   },
   {
    "duration": 1355,
    "start_time": "2025-05-06T23:18:12.632Z"
   },
   {
    "duration": 1030,
    "start_time": "2025-05-06T23:19:15.648Z"
   },
   {
    "duration": 1272,
    "start_time": "2025-05-06T23:19:26.443Z"
   },
   {
    "duration": 771,
    "start_time": "2025-05-06T23:24:01.306Z"
   },
   {
    "duration": 9,
    "start_time": "2025-05-06T23:24:02.079Z"
   },
   {
    "duration": 24,
    "start_time": "2025-05-06T23:24:02.089Z"
   },
   {
    "duration": 6,
    "start_time": "2025-05-06T23:24:02.115Z"
   },
   {
    "duration": 14,
    "start_time": "2025-05-06T23:24:02.123Z"
   },
   {
    "duration": 6,
    "start_time": "2025-05-06T23:24:02.138Z"
   },
   {
    "duration": 5,
    "start_time": "2025-05-06T23:24:02.145Z"
   },
   {
    "duration": 188,
    "start_time": "2025-05-06T23:24:02.151Z"
   },
   {
    "duration": 1271,
    "start_time": "2025-05-06T23:24:02.341Z"
   },
   {
    "duration": 171,
    "start_time": "2025-05-07T15:30:32.619Z"
   },
   {
    "duration": 2621,
    "start_time": "2025-05-07T15:30:42.657Z"
   },
   {
    "duration": 13,
    "start_time": "2025-05-07T15:30:47.811Z"
   },
   {
    "duration": 18,
    "start_time": "2025-05-07T15:30:51.190Z"
   },
   {
    "duration": 7,
    "start_time": "2025-05-07T15:30:56.156Z"
   },
   {
    "duration": 15,
    "start_time": "2025-05-07T15:30:58.867Z"
   },
   {
    "duration": 6,
    "start_time": "2025-05-07T15:31:03.064Z"
   },
   {
    "duration": 5,
    "start_time": "2025-05-07T15:31:10.826Z"
   },
   {
    "duration": 181,
    "start_time": "2025-05-07T15:31:15.193Z"
   },
   {
    "duration": 165,
    "start_time": "2025-05-07T18:50:59.701Z"
   },
   {
    "duration": 2889,
    "start_time": "2025-05-07T18:51:12.551Z"
   },
   {
    "duration": 16,
    "start_time": "2025-05-07T18:51:15.696Z"
   },
   {
    "duration": 18,
    "start_time": "2025-05-07T18:51:18.743Z"
   },
   {
    "duration": 8,
    "start_time": "2025-05-07T18:51:21.764Z"
   },
   {
    "duration": 13,
    "start_time": "2025-05-07T18:51:24.779Z"
   },
   {
    "duration": 6,
    "start_time": "2025-05-07T18:51:27.693Z"
   },
   {
    "duration": 5,
    "start_time": "2025-05-07T18:51:31.755Z"
   },
   {
    "duration": 181,
    "start_time": "2025-05-07T18:51:35.854Z"
   },
   {
    "duration": 1280,
    "start_time": "2025-05-07T18:51:40.255Z"
   },
   {
    "duration": 251,
    "start_time": "2025-05-07T18:51:49.535Z"
   },
   {
    "duration": 4,
    "start_time": "2025-05-07T20:31:49.020Z"
   },
   {
    "duration": 11,
    "start_time": "2025-05-07T20:31:52.389Z"
   },
   {
    "duration": 15,
    "start_time": "2025-05-07T20:31:55.207Z"
   },
   {
    "duration": 6,
    "start_time": "2025-05-07T20:31:58.560Z"
   },
   {
    "duration": 15,
    "start_time": "2025-05-07T20:32:01.759Z"
   },
   {
    "duration": 6,
    "start_time": "2025-05-07T20:32:04.839Z"
   },
   {
    "duration": 8,
    "start_time": "2025-05-07T20:32:08.114Z"
   },
   {
    "duration": 168,
    "start_time": "2025-05-07T20:32:12.658Z"
   },
   {
    "duration": 1227,
    "start_time": "2025-05-07T20:32:16.763Z"
   },
   {
    "duration": 8,
    "start_time": "2025-05-07T20:32:26.680Z"
   },
   {
    "duration": 14,
    "start_time": "2025-05-07T20:32:29.968Z"
   },
   {
    "duration": 15,
    "start_time": "2025-05-07T20:32:47.054Z"
   },
   {
    "duration": 7,
    "start_time": "2025-05-07T20:33:37.454Z"
   },
   {
    "duration": 6,
    "start_time": "2025-05-07T21:02:56.166Z"
   },
   {
    "duration": 4,
    "start_time": "2025-05-07T21:04:13.340Z"
   },
   {
    "duration": 8,
    "start_time": "2025-05-07T22:51:03.839Z"
   },
   {
    "duration": 765,
    "start_time": "2025-05-07T23:37:30.744Z"
   },
   {
    "duration": 9,
    "start_time": "2025-05-07T23:37:31.511Z"
   },
   {
    "duration": 17,
    "start_time": "2025-05-07T23:37:31.522Z"
   },
   {
    "duration": 5,
    "start_time": "2025-05-07T23:37:31.540Z"
   },
   {
    "duration": 13,
    "start_time": "2025-05-07T23:37:31.548Z"
   },
   {
    "duration": 26,
    "start_time": "2025-05-07T23:37:31.562Z"
   },
   {
    "duration": 6,
    "start_time": "2025-05-07T23:37:31.589Z"
   },
   {
    "duration": 195,
    "start_time": "2025-05-07T23:37:31.596Z"
   },
   {
    "duration": 1289,
    "start_time": "2025-05-07T23:37:31.794Z"
   },
   {
    "duration": 7,
    "start_time": "2025-05-07T23:37:33.085Z"
   },
   {
    "duration": 15,
    "start_time": "2025-05-07T23:37:33.093Z"
   },
   {
    "duration": 7,
    "start_time": "2025-05-07T23:37:33.110Z"
   },
   {
    "duration": 5,
    "start_time": "2025-05-07T23:37:33.119Z"
   },
   {
    "duration": 90,
    "start_time": "2025-05-07T23:37:33.127Z"
   },
   {
    "duration": 615,
    "start_time": "2025-05-07T23:37:33.219Z"
   },
   {
    "duration": 6,
    "start_time": "2025-05-07T23:43:25.203Z"
   },
   {
    "duration": 7,
    "start_time": "2025-05-07T23:43:27.612Z"
   },
   {
    "duration": 44,
    "start_time": "2025-05-07T23:43:31.825Z"
   },
   {
    "duration": 756,
    "start_time": "2025-05-07T23:44:41.137Z"
   },
   {
    "duration": 9,
    "start_time": "2025-05-07T23:44:41.895Z"
   },
   {
    "duration": 16,
    "start_time": "2025-05-07T23:44:41.906Z"
   },
   {
    "duration": 6,
    "start_time": "2025-05-07T23:44:41.924Z"
   },
   {
    "duration": 13,
    "start_time": "2025-05-07T23:44:41.933Z"
   },
   {
    "duration": 6,
    "start_time": "2025-05-07T23:44:41.947Z"
   },
   {
    "duration": 7,
    "start_time": "2025-05-07T23:44:41.986Z"
   },
   {
    "duration": 204,
    "start_time": "2025-05-07T23:44:41.994Z"
   },
   {
    "duration": 1266,
    "start_time": "2025-05-07T23:44:42.201Z"
   },
   {
    "duration": 5,
    "start_time": "2025-05-07T23:44:43.469Z"
   },
   {
    "duration": 14,
    "start_time": "2025-05-07T23:44:43.476Z"
   },
   {
    "duration": 7,
    "start_time": "2025-05-07T23:44:43.492Z"
   },
   {
    "duration": 5,
    "start_time": "2025-05-07T23:44:43.501Z"
   },
   {
    "duration": 53,
    "start_time": "2025-05-07T23:44:43.509Z"
   },
   {
    "duration": 642,
    "start_time": "2025-05-07T23:44:43.564Z"
   },
   {
    "duration": 2,
    "start_time": "2025-05-07T23:50:15.066Z"
   },
   {
    "duration": 10,
    "start_time": "2025-05-07T23:50:19.011Z"
   },
   {
    "duration": 14,
    "start_time": "2025-05-07T23:50:22.338Z"
   },
   {
    "duration": 6,
    "start_time": "2025-05-07T23:50:26.026Z"
   },
   {
    "duration": 16,
    "start_time": "2025-05-07T23:50:28.588Z"
   },
   {
    "duration": 8,
    "start_time": "2025-05-07T23:50:30.816Z"
   },
   {
    "duration": 5,
    "start_time": "2025-05-07T23:50:34.035Z"
   },
   {
    "duration": 190,
    "start_time": "2025-05-07T23:50:37.546Z"
   },
   {
    "duration": 1254,
    "start_time": "2025-05-07T23:50:42.127Z"
   },
   {
    "duration": 6,
    "start_time": "2025-05-07T23:50:53.292Z"
   },
   {
    "duration": 16,
    "start_time": "2025-05-07T23:50:58.605Z"
   },
   {
    "duration": 7,
    "start_time": "2025-05-07T23:51:01.603Z"
   },
   {
    "duration": 7,
    "start_time": "2025-05-07T23:51:06.602Z"
   },
   {
    "duration": 7,
    "start_time": "2025-05-07T23:51:11.422Z"
   },
   {
    "duration": 8,
    "start_time": "2025-05-07T23:51:53.148Z"
   },
   {
    "duration": 7,
    "start_time": "2025-05-08T00:02:56.130Z"
   },
   {
    "duration": 5,
    "start_time": "2025-05-08T00:02:58.561Z"
   },
   {
    "duration": 7,
    "start_time": "2025-05-08T00:03:06.410Z"
   },
   {
    "duration": 732,
    "start_time": "2025-05-08T00:09:29.179Z"
   },
   {
    "duration": 11,
    "start_time": "2025-05-08T00:09:29.913Z"
   },
   {
    "duration": 18,
    "start_time": "2025-05-08T00:09:29.926Z"
   },
   {
    "duration": 6,
    "start_time": "2025-05-08T00:09:29.946Z"
   },
   {
    "duration": 40,
    "start_time": "2025-05-08T00:09:29.955Z"
   },
   {
    "duration": 7,
    "start_time": "2025-05-08T00:09:29.997Z"
   },
   {
    "duration": 5,
    "start_time": "2025-05-08T00:09:30.006Z"
   },
   {
    "duration": 227,
    "start_time": "2025-05-08T00:09:30.013Z"
   },
   {
    "duration": 1385,
    "start_time": "2025-05-08T00:09:30.242Z"
   },
   {
    "duration": 7,
    "start_time": "2025-05-08T00:09:31.629Z"
   },
   {
    "duration": 15,
    "start_time": "2025-05-08T00:09:31.637Z"
   },
   {
    "duration": 7,
    "start_time": "2025-05-08T00:09:31.653Z"
   },
   {
    "duration": 5,
    "start_time": "2025-05-08T00:09:31.662Z"
   },
   {
    "duration": 6,
    "start_time": "2025-05-08T00:09:31.669Z"
   },
   {
    "duration": 10,
    "start_time": "2025-05-08T00:09:31.688Z"
   },
   {
    "duration": 2502,
    "start_time": "2025-05-08T21:23:19.175Z"
   },
   {
    "duration": 14,
    "start_time": "2025-05-08T21:23:24.804Z"
   },
   {
    "duration": 18,
    "start_time": "2025-05-08T21:23:27.728Z"
   },
   {
    "duration": 7,
    "start_time": "2025-05-08T21:23:30.845Z"
   },
   {
    "duration": 15,
    "start_time": "2025-05-08T21:23:33.638Z"
   },
   {
    "duration": 6,
    "start_time": "2025-05-08T21:23:36.622Z"
   },
   {
    "duration": 8,
    "start_time": "2025-05-08T21:23:39.998Z"
   },
   {
    "duration": 243,
    "start_time": "2025-05-08T21:23:44.428Z"
   },
   {
    "duration": 4,
    "start_time": "2025-05-08T21:23:53.669Z"
   },
   {
    "duration": 310,
    "start_time": "2025-05-08T21:23:58.563Z"
   },
   {
    "duration": 8,
    "start_time": "2025-05-08T21:53:00.905Z"
   },
   {
    "duration": 16,
    "start_time": "2025-05-08T21:53:03.828Z"
   },
   {
    "duration": 8,
    "start_time": "2025-05-08T21:53:07.329Z"
   },
   {
    "duration": 6,
    "start_time": "2025-05-08T21:53:10.746Z"
   },
   {
    "duration": 7,
    "start_time": "2025-05-08T22:05:26.867Z"
   },
   {
    "duration": 16,
    "start_time": "2025-05-08T22:05:29.290Z"
   },
   {
    "duration": 8,
    "start_time": "2025-05-08T22:05:32.297Z"
   },
   {
    "duration": 5,
    "start_time": "2025-05-08T22:05:37.875Z"
   },
   {
    "duration": 5,
    "start_time": "2025-05-08T22:05:40.560Z"
   },
   {
    "duration": 13,
    "start_time": "2025-05-08T22:05:44.437Z"
   },
   {
    "duration": 11,
    "start_time": "2025-05-08T22:12:01.995Z"
   },
   {
    "duration": 13,
    "start_time": "2025-05-08T22:27:50.525Z"
   },
   {
    "duration": 4,
    "start_time": "2025-05-08T22:38:21.466Z"
   },
   {
    "duration": 3,
    "start_time": "2025-05-08T22:47:37.395Z"
   },
   {
    "duration": 3,
    "start_time": "2025-05-08T22:52:45.266Z"
   },
   {
    "duration": 5,
    "start_time": "2025-05-08T22:52:55.407Z"
   },
   {
    "duration": 5,
    "start_time": "2025-05-08T22:53:07.765Z"
   },
   {
    "duration": 7,
    "start_time": "2025-05-08T23:08:06.519Z"
   },
   {
    "duration": 4,
    "start_time": "2025-05-08T23:08:31.568Z"
   },
   {
    "duration": 751,
    "start_time": "2025-05-08T23:15:00.767Z"
   },
   {
    "duration": 11,
    "start_time": "2025-05-08T23:15:01.520Z"
   },
   {
    "duration": 17,
    "start_time": "2025-05-08T23:15:01.533Z"
   },
   {
    "duration": 5,
    "start_time": "2025-05-08T23:15:01.552Z"
   },
   {
    "duration": 14,
    "start_time": "2025-05-08T23:15:01.559Z"
   },
   {
    "duration": 6,
    "start_time": "2025-05-08T23:15:01.574Z"
   },
   {
    "duration": 5,
    "start_time": "2025-05-08T23:15:01.581Z"
   },
   {
    "duration": 216,
    "start_time": "2025-05-08T23:15:01.587Z"
   },
   {
    "duration": 3,
    "start_time": "2025-05-08T23:15:01.805Z"
   },
   {
    "duration": 330,
    "start_time": "2025-05-08T23:15:01.810Z"
   },
   {
    "duration": 6,
    "start_time": "2025-05-08T23:15:02.142Z"
   },
   {
    "duration": 16,
    "start_time": "2025-05-08T23:15:02.150Z"
   },
   {
    "duration": 6,
    "start_time": "2025-05-08T23:15:02.167Z"
   },
   {
    "duration": 5,
    "start_time": "2025-05-08T23:15:02.176Z"
   },
   {
    "duration": 4,
    "start_time": "2025-05-08T23:15:02.183Z"
   },
   {
    "duration": 9,
    "start_time": "2025-05-08T23:15:02.189Z"
   },
   {
    "duration": 4,
    "start_time": "2025-05-08T23:15:02.199Z"
   },
   {
    "duration": 4,
    "start_time": "2025-05-08T23:15:02.232Z"
   },
   {
    "duration": 2516,
    "start_time": "2025-05-09T12:42:00.825Z"
   },
   {
    "duration": 13,
    "start_time": "2025-05-09T12:42:06.349Z"
   },
   {
    "duration": 18,
    "start_time": "2025-05-09T12:42:09.794Z"
   },
   {
    "duration": 6,
    "start_time": "2025-05-09T12:42:13.169Z"
   },
   {
    "duration": 14,
    "start_time": "2025-05-09T12:42:16.484Z"
   },
   {
    "duration": 7,
    "start_time": "2025-05-09T12:42:19.728Z"
   },
   {
    "duration": 5,
    "start_time": "2025-05-09T12:42:24.997Z"
   },
   {
    "duration": 197,
    "start_time": "2025-05-09T12:42:32.241Z"
   },
   {
    "duration": 4,
    "start_time": "2025-05-09T12:42:38.022Z"
   },
   {
    "duration": 322,
    "start_time": "2025-05-09T12:42:41.638Z"
   },
   {
    "duration": 8,
    "start_time": "2025-05-09T12:43:00.035Z"
   },
   {
    "duration": 19,
    "start_time": "2025-05-09T12:43:03.857Z"
   },
   {
    "duration": 7,
    "start_time": "2025-05-09T12:43:06.880Z"
   },
   {
    "duration": 5,
    "start_time": "2025-05-09T12:43:10.929Z"
   },
   {
    "duration": 4,
    "start_time": "2025-05-09T12:43:13.492Z"
   },
   {
    "duration": 10,
    "start_time": "2025-05-09T12:43:16.917Z"
   },
   {
    "duration": 5,
    "start_time": "2025-05-09T12:43:25.214Z"
   },
   {
    "duration": 4,
    "start_time": "2025-05-09T12:43:28.312Z"
   },
   {
    "duration": 2415,
    "start_time": "2025-05-10T16:06:37.131Z"
   },
   {
    "duration": 15,
    "start_time": "2025-05-10T16:06:39.548Z"
   },
   {
    "duration": 18,
    "start_time": "2025-05-10T16:06:39.565Z"
   },
   {
    "duration": 6,
    "start_time": "2025-05-10T16:06:39.585Z"
   },
   {
    "duration": 14,
    "start_time": "2025-05-10T16:06:39.593Z"
   },
   {
    "duration": 7,
    "start_time": "2025-05-10T16:06:39.608Z"
   },
   {
    "duration": 29,
    "start_time": "2025-05-10T16:06:39.617Z"
   },
   {
    "duration": 185,
    "start_time": "2025-05-10T16:06:39.648Z"
   },
   {
    "duration": 9,
    "start_time": "2025-05-10T16:06:39.835Z"
   },
   {
    "duration": 335,
    "start_time": "2025-05-10T16:06:39.845Z"
   },
   {
    "duration": 10,
    "start_time": "2025-05-10T16:06:40.181Z"
   },
   {
    "duration": 14,
    "start_time": "2025-05-10T16:06:40.192Z"
   },
   {
    "duration": 6,
    "start_time": "2025-05-10T16:06:40.208Z"
   },
   {
    "duration": 5,
    "start_time": "2025-05-10T16:06:40.218Z"
   },
   {
    "duration": 5,
    "start_time": "2025-05-10T16:06:40.225Z"
   },
   {
    "duration": 17,
    "start_time": "2025-05-10T16:06:40.232Z"
   },
   {
    "duration": 4,
    "start_time": "2025-05-10T16:06:40.251Z"
   },
   {
    "duration": 4,
    "start_time": "2025-05-10T16:06:40.258Z"
   }
  ],
  "kernelspec": {
   "display_name": "Python 3 (ipykernel)",
   "language": "python",
   "name": "python3"
  },
  "language_info": {
   "codemirror_mode": {
    "name": "ipython",
    "version": 3
   },
   "file_extension": ".py",
   "mimetype": "text/x-python",
   "name": "python",
   "nbconvert_exporter": "python",
   "pygments_lexer": "ipython3",
   "version": "3.9.19"
  },
  "toc": {
   "base_numbering": 1,
   "nav_menu": {},
   "number_sections": true,
   "sideBar": true,
   "skip_h1_title": true,
   "title_cell": "Table of Contents",
   "title_sidebar": "Contents",
   "toc_cell": false,
   "toc_position": {},
   "toc_section_display": true,
   "toc_window_display": false
  }
 },
 "nbformat": 4,
 "nbformat_minor": 2
}
